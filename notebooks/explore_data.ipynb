{
 "cells": [
  {
   "cell_type": "code",
   "execution_count": 7,
   "metadata": {},
   "outputs": [],
   "source": [
    "import pandas as pd\n",
    "import numpy as np"
   ]
  },
  {
   "cell_type": "code",
   "execution_count": 8,
   "id": "38207c08",
   "metadata": {},
   "outputs": [],
   "source": [
    "%load_ext autoreload\n",
    "%autoreload 2\n"
   ]
  },
  {
   "cell_type": "code",
   "execution_count": 9,
   "id": "6f0add08",
   "metadata": {},
   "outputs": [],
   "source": [
    "from src.data.load_data import load_data\n"
   ]
  },
  {
   "cell_type": "code",
   "execution_count": 11,
   "id": "17454ea3",
   "metadata": {},
   "outputs": [],
   "source": [
    "ROOT_DIR = \"/Users/oscarbalcells/Desktop/AI/task4\""
   ]
  },
  {
   "cell_type": "code",
   "execution_count": 25,
   "id": "d8ee68d2",
   "metadata": {},
   "outputs": [],
   "source": [
    "x_pretrain, y_pretrain, x_train, y_train, x_test = load_data(root_dir=ROOT_DIR, load_as_np=False)\n"
   ]
  },
  {
   "cell_type": "code",
   "execution_count": 27,
   "id": "c73d6e01",
   "metadata": {},
   "outputs": [
    {
     "data": {
      "text/plain": [
       "'c1occ2c1c1ccc3cscc3c1c1ncc3cc(ccc3c21)-c1cccc2cscc12'"
      ]
     },
     "execution_count": 27,
     "metadata": {},
     "output_type": "execute_result"
    }
   ],
   "source": [
    "x_pretrain.iloc[0][\"smiles\"]\n",
    "\n"
   ]
  },
  {
   "cell_type": "code",
   "execution_count": 24,
   "id": "676dc0dc",
   "metadata": {},
   "outputs": [
    {
     "data": {
      "text/plain": [
       "Index(['feature_0000', 'feature_0001', 'feature_0002', 'feature_0003',\n",
       "       'feature_0004', 'feature_0005', 'feature_0006', 'feature_0007',\n",
       "       'feature_0008', 'feature_0009',\n",
       "       ...\n",
       "       'feature_0990', 'feature_0991', 'feature_0992', 'feature_0993',\n",
       "       'feature_0994', 'feature_0995', 'feature_0996', 'feature_0997',\n",
       "       'feature_0998', 'feature_0999'],\n",
       "      dtype='object', length=1000)"
      ]
     },
     "execution_count": 24,
     "metadata": {},
     "output_type": "execute_result"
    }
   ],
   "source": [
    "x_train.columns\n",
    "\n"
   ]
  },
  {
   "cell_type": "code",
   "execution_count": 22,
   "id": "1c0c42bc",
   "metadata": {},
   "outputs": [
    {
     "data": {
      "text/plain": [
       "array([2.05287228, 1.32552973, 1.83729442, 1.38860147, 0.99185146,\n",
       "       1.18184813, 1.46986438, 1.78053514, 2.95969531, 2.22497755,\n",
       "       1.60914091, 2.169881  , 2.62993076, 2.08208275, 1.65118902,\n",
       "       2.25876781, 1.8219338 , 1.9153037 , 2.08050356, 1.84710994,\n",
       "       1.71622686, 1.49220775, 1.88388241, 1.76662092, 1.58091273,\n",
       "       1.95566258, 2.09117752, 1.63581643, 1.8883849 , 2.30974896,\n",
       "       2.17117509, 2.09649553, 1.42481158, 1.89709539, 2.53611483,\n",
       "       2.26778724, 2.06756788, 1.37185368, 2.16037552, 1.60788243,\n",
       "       2.33584386, 1.94773163, 1.94639357, 2.35623202, 1.78507386,\n",
       "       1.97922039, 1.44370978, 2.19812336, 1.54138112, 1.71524981,\n",
       "       2.36806045, 1.26248502, 1.96635651, 2.54842379, 2.05360054,\n",
       "       1.99630831, 1.52733674, 2.07365248, 1.51004038, 1.77299405,\n",
       "       2.02227049, 1.8894794 , 1.39234918, 2.25222951, 1.60906101,\n",
       "       1.62972265, 2.20283672, 1.90241923, 2.52155298, 1.10651254,\n",
       "       1.73132662, 1.573652  , 1.71079002, 1.68878471, 1.54657394,\n",
       "       1.901189  , 2.22061314, 2.113159  , 1.61394314, 2.0552411 ,\n",
       "       1.48877307, 1.41680174, 1.41355089, 2.32770651, 2.05196268,\n",
       "       1.60262415, 1.94963693, 2.20661838, 1.90166565, 1.72703742,\n",
       "       1.26860387, 1.94879582, 1.67048717, 1.50507777, 1.81993712,\n",
       "       1.79179494, 1.11506045, 2.0871997 , 1.62294696, 1.73970237])"
      ]
     },
     "execution_count": 22,
     "metadata": {},
     "output_type": "execute_result"
    }
   ],
   "source": [
    "y_train"
   ]
  }
 ],
 "metadata": {
  "kernelspec": {
   "display_name": "Python 3.11.3 64-bit",
   "language": "python",
   "name": "python3"
  },
  "language_info": {
   "codemirror_mode": {
    "name": "ipython",
    "version": 3
   },
   "file_extension": ".py",
   "mimetype": "text/x-python",
   "name": "python",
   "nbconvert_exporter": "python",
   "pygments_lexer": "ipython3",
   "version": "3.11.3"
  },
  "vscode": {
   "interpreter": {
    "hash": "b0fa6594d8f4cbf19f97940f81e996739fb7646882a419484c72d19e05852a7e"
   }
  }
 },
 "nbformat": 4,
 "nbformat_minor": 5
}
