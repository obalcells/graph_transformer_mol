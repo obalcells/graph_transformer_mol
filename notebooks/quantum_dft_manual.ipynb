{
 "cells": [
  {
   "cell_type": "code",
   "execution_count": 3,
   "metadata": {},
   "outputs": [],
   "source": [
    "from rdkit import Chem\n",
    "from rdkit.Chem import AllChem"
   ]
  },
  {
   "cell_type": "code",
   "execution_count": 5,
   "metadata": {},
   "outputs": [
    {
     "ename": "OSError",
     "evalue": "dlopen(/opt/homebrew/lib/python3.11/site-packages/pyscf/lib/libnp_helper.dylib, 0x0006): tried: '/opt/homebrew/lib/python3.11/site-packages/pyscf/lib/libnp_helper.dylib' (mach-o file, but is an incompatible architecture (have 'x86_64', need 'arm64')), '/System/Volumes/Preboot/Cryptexes/OS/opt/homebrew/lib/python3.11/site-packages/pyscf/lib/libnp_helper.dylib' (no such file), '/opt/homebrew/lib/python3.11/site-packages/pyscf/lib/libnp_helper.dylib' (mach-o file, but is an incompatible architecture (have 'x86_64', need 'arm64'))",
     "output_type": "error",
     "traceback": [
      "\u001b[0;31m---------------------------------------------------------------------------\u001b[0m",
      "\u001b[0;31mOSError\u001b[0m                                   Traceback (most recent call last)",
      "File \u001b[0;32m/opt/homebrew/lib/python3.11/site-packages/pyscf/lib/misc.py:90\u001b[0m, in \u001b[0;36mload_library\u001b[0;34m(libname)\u001b[0m\n\u001b[1;32m     89\u001b[0m     _loaderpath \u001b[39m=\u001b[39m os\u001b[39m.\u001b[39mpath\u001b[39m.\u001b[39mdirname(\u001b[39m__file__\u001b[39m)\n\u001b[0;32m---> 90\u001b[0m     \u001b[39mreturn\u001b[39;00m numpy\u001b[39m.\u001b[39;49mctypeslib\u001b[39m.\u001b[39;49mload_library(libname, _loaderpath)\n\u001b[1;32m     91\u001b[0m \u001b[39mexcept\u001b[39;00m \u001b[39mOSError\u001b[39;00m:\n",
      "File \u001b[0;32m/opt/homebrew/lib/python3.11/site-packages/numpy/ctypeslib.py:158\u001b[0m, in \u001b[0;36mload_library\u001b[0;34m(libname, loader_path)\u001b[0m\n\u001b[1;32m    157\u001b[0m \u001b[39mtry\u001b[39;00m:\n\u001b[0;32m--> 158\u001b[0m     \u001b[39mreturn\u001b[39;00m ctypes\u001b[39m.\u001b[39;49mcdll[libpath]\n\u001b[1;32m    159\u001b[0m \u001b[39mexcept\u001b[39;00m \u001b[39mOSError\u001b[39;00m:\n\u001b[1;32m    160\u001b[0m     \u001b[39m## defective lib file\u001b[39;00m\n",
      "File \u001b[0;32m/opt/homebrew/Cellar/python@3.11/3.11.3/Frameworks/Python.framework/Versions/3.11/lib/python3.11/ctypes/__init__.py:451\u001b[0m, in \u001b[0;36mLibraryLoader.__getitem__\u001b[0;34m(self, name)\u001b[0m\n\u001b[1;32m    450\u001b[0m \u001b[39mdef\u001b[39;00m \u001b[39m__getitem__\u001b[39m(\u001b[39mself\u001b[39m, name):\n\u001b[0;32m--> 451\u001b[0m     \u001b[39mreturn\u001b[39;00m \u001b[39mgetattr\u001b[39;49m(\u001b[39mself\u001b[39;49m, name)\n",
      "File \u001b[0;32m/opt/homebrew/Cellar/python@3.11/3.11.3/Frameworks/Python.framework/Versions/3.11/lib/python3.11/ctypes/__init__.py:446\u001b[0m, in \u001b[0;36mLibraryLoader.__getattr__\u001b[0;34m(self, name)\u001b[0m\n\u001b[1;32m    445\u001b[0m     \u001b[39mraise\u001b[39;00m \u001b[39mAttributeError\u001b[39;00m(name)\n\u001b[0;32m--> 446\u001b[0m dll \u001b[39m=\u001b[39m \u001b[39mself\u001b[39;49m\u001b[39m.\u001b[39;49m_dlltype(name)\n\u001b[1;32m    447\u001b[0m \u001b[39msetattr\u001b[39m(\u001b[39mself\u001b[39m, name, dll)\n",
      "File \u001b[0;32m/opt/homebrew/Cellar/python@3.11/3.11.3/Frameworks/Python.framework/Versions/3.11/lib/python3.11/ctypes/__init__.py:376\u001b[0m, in \u001b[0;36mCDLL.__init__\u001b[0;34m(self, name, mode, handle, use_errno, use_last_error, winmode)\u001b[0m\n\u001b[1;32m    375\u001b[0m \u001b[39mif\u001b[39;00m handle \u001b[39mis\u001b[39;00m \u001b[39mNone\u001b[39;00m:\n\u001b[0;32m--> 376\u001b[0m     \u001b[39mself\u001b[39m\u001b[39m.\u001b[39m_handle \u001b[39m=\u001b[39m _dlopen(\u001b[39mself\u001b[39;49m\u001b[39m.\u001b[39;49m_name, mode)\n\u001b[1;32m    377\u001b[0m \u001b[39melse\u001b[39;00m:\n",
      "\u001b[0;31mOSError\u001b[0m: dlopen(/opt/homebrew/lib/python3.11/site-packages/pyscf/lib/libnp_helper.dylib, 0x0006): tried: '/opt/homebrew/lib/python3.11/site-packages/pyscf/lib/libnp_helper.dylib' (mach-o file, but is an incompatible architecture (have 'x86_64', need 'arm64')), '/System/Volumes/Preboot/Cryptexes/OS/opt/homebrew/lib/python3.11/site-packages/pyscf/lib/libnp_helper.dylib' (no such file), '/opt/homebrew/lib/python3.11/site-packages/pyscf/lib/libnp_helper.dylib' (mach-o file, but is an incompatible architecture (have 'x86_64', need 'arm64'))",
      "\nDuring handling of the above exception, another exception occurred:\n",
      "\u001b[0;31mOSError\u001b[0m                                   Traceback (most recent call last)",
      "Cell \u001b[0;32mIn[5], line 1\u001b[0m\n\u001b[0;32m----> 1\u001b[0m \u001b[39mfrom\u001b[39;00m \u001b[39mpyscf\u001b[39;00m \u001b[39mimport\u001b[39;00m gto, dft\n",
      "File \u001b[0;32m/opt/homebrew/lib/python3.11/site-packages/pyscf/__init__.py:97\u001b[0m\n\u001b[1;32m     94\u001b[0m     _internal\u001b[39m.\u001b[39m_get_void_ptr \u001b[39m=\u001b[39m _get_void_ptr\n\u001b[1;32m     96\u001b[0m \u001b[39mfrom\u001b[39;00m \u001b[39mpyscf\u001b[39;00m \u001b[39mimport\u001b[39;00m __config__\n\u001b[0;32m---> 97\u001b[0m \u001b[39mfrom\u001b[39;00m \u001b[39mpyscf\u001b[39;00m \u001b[39mimport\u001b[39;00m lib\n\u001b[1;32m     98\u001b[0m \u001b[39mfrom\u001b[39;00m \u001b[39mpyscf\u001b[39;00m \u001b[39mimport\u001b[39;00m gto\n\u001b[1;32m     99\u001b[0m \u001b[39mfrom\u001b[39;00m \u001b[39mpyscf\u001b[39;00m \u001b[39mimport\u001b[39;00m scf\n",
      "File \u001b[0;32m/opt/homebrew/lib/python3.11/site-packages/pyscf/lib/__init__.py:24\u001b[0m\n\u001b[1;32m     22\u001b[0m \u001b[39mfrom\u001b[39;00m \u001b[39mpyscf\u001b[39;00m\u001b[39m.\u001b[39;00m\u001b[39mlib\u001b[39;00m \u001b[39mimport\u001b[39;00m parameters\n\u001b[1;32m     23\u001b[0m param \u001b[39m=\u001b[39m parameters\n\u001b[0;32m---> 24\u001b[0m \u001b[39mfrom\u001b[39;00m \u001b[39mpyscf\u001b[39;00m\u001b[39m.\u001b[39;00m\u001b[39mlib\u001b[39;00m \u001b[39mimport\u001b[39;00m numpy_helper\n\u001b[1;32m     25\u001b[0m \u001b[39mfrom\u001b[39;00m \u001b[39mpyscf\u001b[39;00m\u001b[39m.\u001b[39;00m\u001b[39mlib\u001b[39;00m \u001b[39mimport\u001b[39;00m linalg_helper\n\u001b[1;32m     26\u001b[0m \u001b[39mfrom\u001b[39;00m \u001b[39mpyscf\u001b[39;00m\u001b[39m.\u001b[39;00m\u001b[39mlib\u001b[39;00m \u001b[39mimport\u001b[39;00m scipy_helper\n",
      "File \u001b[0;32m/opt/homebrew/lib/python3.11/site-packages/pyscf/lib/numpy_helper.py:39\u001b[0m\n\u001b[1;32m     36\u001b[0m \u001b[39mexcept\u001b[39;00m (\u001b[39mImportError\u001b[39;00m, \u001b[39mOSError\u001b[39;00m):\n\u001b[1;32m     37\u001b[0m     FOUND_TBLIS \u001b[39m=\u001b[39m \u001b[39mFalse\u001b[39;00m\n\u001b[0;32m---> 39\u001b[0m _np_helper \u001b[39m=\u001b[39m misc\u001b[39m.\u001b[39;49mload_library(\u001b[39m'\u001b[39;49m\u001b[39mlibnp_helper\u001b[39;49m\u001b[39m'\u001b[39;49m)\n\u001b[1;32m     41\u001b[0m BLOCK_DIM \u001b[39m=\u001b[39m \u001b[39m192\u001b[39m\n\u001b[1;32m     42\u001b[0m PLAIN \u001b[39m=\u001b[39m \u001b[39m0\u001b[39m\n",
      "File \u001b[0;32m/opt/homebrew/lib/python3.11/site-packages/pyscf/lib/misc.py:98\u001b[0m, in \u001b[0;36mload_library\u001b[0;34m(libname)\u001b[0m\n\u001b[1;32m     96\u001b[0m         \u001b[39mfor\u001b[39;00m files \u001b[39min\u001b[39;00m os\u001b[39m.\u001b[39mlistdir(libpath):\n\u001b[1;32m     97\u001b[0m             \u001b[39mif\u001b[39;00m files\u001b[39m.\u001b[39mstartswith(libname):\n\u001b[0;32m---> 98\u001b[0m                 \u001b[39mreturn\u001b[39;00m numpy\u001b[39m.\u001b[39;49mctypeslib\u001b[39m.\u001b[39;49mload_library(libname, libpath)\n\u001b[1;32m     99\u001b[0m \u001b[39mraise\u001b[39;00m\n",
      "File \u001b[0;32m/opt/homebrew/lib/python3.11/site-packages/numpy/ctypeslib.py:158\u001b[0m, in \u001b[0;36mload_library\u001b[0;34m(libname, loader_path)\u001b[0m\n\u001b[1;32m    156\u001b[0m \u001b[39mif\u001b[39;00m os\u001b[39m.\u001b[39mpath\u001b[39m.\u001b[39mexists(libpath):\n\u001b[1;32m    157\u001b[0m     \u001b[39mtry\u001b[39;00m:\n\u001b[0;32m--> 158\u001b[0m         \u001b[39mreturn\u001b[39;00m ctypes\u001b[39m.\u001b[39;49mcdll[libpath]\n\u001b[1;32m    159\u001b[0m     \u001b[39mexcept\u001b[39;00m \u001b[39mOSError\u001b[39;00m:\n\u001b[1;32m    160\u001b[0m         \u001b[39m## defective lib file\u001b[39;00m\n\u001b[1;32m    161\u001b[0m         \u001b[39mraise\u001b[39;00m\n",
      "File \u001b[0;32m/opt/homebrew/Cellar/python@3.11/3.11.3/Frameworks/Python.framework/Versions/3.11/lib/python3.11/ctypes/__init__.py:451\u001b[0m, in \u001b[0;36mLibraryLoader.__getitem__\u001b[0;34m(self, name)\u001b[0m\n\u001b[1;32m    450\u001b[0m \u001b[39mdef\u001b[39;00m \u001b[39m__getitem__\u001b[39m(\u001b[39mself\u001b[39m, name):\n\u001b[0;32m--> 451\u001b[0m     \u001b[39mreturn\u001b[39;00m \u001b[39mgetattr\u001b[39m(\u001b[39mself\u001b[39m, name)\n",
      "File \u001b[0;32m/opt/homebrew/Cellar/python@3.11/3.11.3/Frameworks/Python.framework/Versions/3.11/lib/python3.11/ctypes/__init__.py:446\u001b[0m, in \u001b[0;36mLibraryLoader.__getattr__\u001b[0;34m(self, name)\u001b[0m\n\u001b[1;32m    444\u001b[0m \u001b[39mif\u001b[39;00m name[\u001b[39m0\u001b[39m] \u001b[39m==\u001b[39m \u001b[39m'\u001b[39m\u001b[39m_\u001b[39m\u001b[39m'\u001b[39m:\n\u001b[1;32m    445\u001b[0m     \u001b[39mraise\u001b[39;00m \u001b[39mAttributeError\u001b[39;00m(name)\n\u001b[0;32m--> 446\u001b[0m dll \u001b[39m=\u001b[39m \u001b[39mself\u001b[39;49m\u001b[39m.\u001b[39;49m_dlltype(name)\n\u001b[1;32m    447\u001b[0m \u001b[39msetattr\u001b[39m(\u001b[39mself\u001b[39m, name, dll)\n\u001b[1;32m    448\u001b[0m \u001b[39mreturn\u001b[39;00m dll\n",
      "File \u001b[0;32m/opt/homebrew/Cellar/python@3.11/3.11.3/Frameworks/Python.framework/Versions/3.11/lib/python3.11/ctypes/__init__.py:376\u001b[0m, in \u001b[0;36mCDLL.__init__\u001b[0;34m(self, name, mode, handle, use_errno, use_last_error, winmode)\u001b[0m\n\u001b[1;32m    373\u001b[0m \u001b[39mself\u001b[39m\u001b[39m.\u001b[39m_FuncPtr \u001b[39m=\u001b[39m _FuncPtr\n\u001b[1;32m    375\u001b[0m \u001b[39mif\u001b[39;00m handle \u001b[39mis\u001b[39;00m \u001b[39mNone\u001b[39;00m:\n\u001b[0;32m--> 376\u001b[0m     \u001b[39mself\u001b[39m\u001b[39m.\u001b[39m_handle \u001b[39m=\u001b[39m _dlopen(\u001b[39mself\u001b[39;49m\u001b[39m.\u001b[39;49m_name, mode)\n\u001b[1;32m    377\u001b[0m \u001b[39melse\u001b[39;00m:\n\u001b[1;32m    378\u001b[0m     \u001b[39mself\u001b[39m\u001b[39m.\u001b[39m_handle \u001b[39m=\u001b[39m handle\n",
      "\u001b[0;31mOSError\u001b[0m: dlopen(/opt/homebrew/lib/python3.11/site-packages/pyscf/lib/libnp_helper.dylib, 0x0006): tried: '/opt/homebrew/lib/python3.11/site-packages/pyscf/lib/libnp_helper.dylib' (mach-o file, but is an incompatible architecture (have 'x86_64', need 'arm64')), '/System/Volumes/Preboot/Cryptexes/OS/opt/homebrew/lib/python3.11/site-packages/pyscf/lib/libnp_helper.dylib' (no such file), '/opt/homebrew/lib/python3.11/site-packages/pyscf/lib/libnp_helper.dylib' (mach-o file, but is an incompatible architecture (have 'x86_64', need 'arm64'))"
     ]
    }
   ],
   "source": [
    "from pyscf import gto, dft"
   ]
  },
  {
   "cell_type": "code",
   "execution_count": null,
   "metadata": {},
   "outputs": [],
   "source": [
    "\n",
    "# Parse the SMILES string and add hydrogens\n",
    "mol = Chem.AddHs(Chem.MolFromSmiles('C1=CC=CC=C1'))  # replace with your SMILES\n",
    "# Generate a 3D conformer using the ETKDG method\n",
    "AllChem.EmbedMolecule(mol, AllChem.ETKDG())\n",
    "\n",
    "# Get the atom symbols and coordinates\n",
    "atom_symbols = [a.GetSymbol() for a in mol.GetAtoms()]\n",
    "coordinates = mol.GetConformer().GetPositions()\n",
    "\n",
    "# Create a PySCF molecule object\n",
    "pyscf_mol = gto.Mole()\n",
    "pyscf_mol.atom = list(zip(atom_symbols, coordinates))\n",
    "pyscf_mol.basis = 'sto-3g'  # replace with your basis set\n",
    "pyscf_mol.build()\n",
    "\n",
    "# Run a DFT calculation\n",
    "mf = dft.RKS(pyscf_mol)\n",
    "mf.xc = 'b3lyp'  # specify the functional\n",
    "mf.kernel()\n",
    "\n",
    "# Calculate the HOMO-LUMO gap\n",
    "gap = mf.mo_energy[mf.mo_occ>0].max() - mf.mo_energy[mf.mo_occ==0].min()\n",
    "print('HOMO-LUMO Gap: ', gap)"
   ]
  }
 ],
 "metadata": {
  "kernelspec": {
   "display_name": "Python 3.11.3 64-bit",
   "language": "python",
   "name": "python3"
  },
  "language_info": {
   "codemirror_mode": {
    "name": "ipython",
    "version": 3
   },
   "file_extension": ".py",
   "mimetype": "text/x-python",
   "name": "python",
   "nbconvert_exporter": "python",
   "pygments_lexer": "ipython3",
   "version": "3.11.3"
  },
  "orig_nbformat": 4,
  "vscode": {
   "interpreter": {
    "hash": "b0fa6594d8f4cbf19f97940f81e996739fb7646882a419484c72d19e05852a7e"
   }
  }
 },
 "nbformat": 4,
 "nbformat_minor": 2
}
